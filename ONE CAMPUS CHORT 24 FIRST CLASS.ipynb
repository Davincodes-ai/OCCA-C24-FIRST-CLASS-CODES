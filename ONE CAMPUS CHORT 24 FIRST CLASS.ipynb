{
 "cells": [
  {
   "cell_type": "markdown",
   "id": "bc42c0d7",
   "metadata": {},
   "source": [
    "Introduction to Python"
   ]
  },
  {
   "cell_type": "code",
   "execution_count": 42,
   "id": "2e711680",
   "metadata": {},
   "outputs": [],
   "source": [
    "x = 5\n",
    "y = 7\n",
    "\n",
    "j= x*y\n"
   ]
  },
  {
   "cell_type": "code",
   "execution_count": 43,
   "id": "d32315e2",
   "metadata": {},
   "outputs": [
    {
     "data": {
      "text/plain": [
       "35"
      ]
     },
     "execution_count": 43,
     "metadata": {},
     "output_type": "execute_result"
    }
   ],
   "source": [
    "j\n"
   ]
  },
  {
   "cell_type": "markdown",
   "id": "99e9fdf5-6a13-4dab-954e-5f97d7965e9e",
   "metadata": {},
   "source": [
    "Timothy is my friend, he is 30 years old, he earms $2000 a month"
   ]
  },
  {
   "cell_type": "code",
   "execution_count": 44,
   "id": "d37f01d0-b1d9-4c10-9ff7-29395a0acc30",
   "metadata": {
    "tags": []
   },
   "outputs": [
    {
     "name": "stdout",
     "output_type": "stream",
     "text": [
      "Timothy\n",
      "30\n",
      "2000.98\n",
      "60029.4\n"
     ]
    }
   ],
   "source": [
    "friendname = \"Timothy\"\n",
    "Age = 30\n",
    "income = 2000.98\n",
    "print(friendname)\n",
    "print(Age)\n",
    "print(income)\n",
    "Ageincome = Age * income\n",
    "print(Ageincome)"
   ]
  },
  {
   "cell_type": "markdown",
   "id": "9aac76a6",
   "metadata": {
    "tags": []
   },
   "source": [
    "James is a teacher in St.Joseph college,\n",
    "He teaches math, physics and chemistry.\n",
    "He is 45 years old and currently been teaching for 20 years."
   ]
  },
  {
   "cell_type": "code",
   "execution_count": 59,
   "id": "d6aacc1b-bbc4-440e-81e0-ef9633badc7e",
   "metadata": {
    "tags": []
   },
   "outputs": [
    {
     "name": "stdout",
     "output_type": "stream",
     "text": [
      "James is a teacher, he teaches at ST.JOSEPH COLLEGE, he teaches ['Maths', 'Physics', 'Chemistry'] in the school and he has been teaching for 20 years.\n"
     ]
    }
   ],
   "source": [
    "Tname = \"James\"\n",
    "coleg = \"St.Joseph college\"\n",
    "subjs = [\"Maths\", \"Physics\", \"Chemistry\"]\n",
    "age = 45\n",
    "expr =20\n",
    "print(f\"{Tname.capitalize()} is a teacher, he teaches at {coleg.upper()}, he teaches {subjs} in the school and he has been teaching for {expr} years.\")"
   ]
  },
  {
   "cell_type": "code",
   "execution_count": 56,
   "id": "5e08154d-87d0-4894-ba2d-050e26d0cf99",
   "metadata": {
    "tags": []
   },
   "outputs": [
    {
     "data": {
      "text/plain": [
       "['Maths', 'Physics', 'Chemistry']"
      ]
     },
     "execution_count": 56,
     "metadata": {},
     "output_type": "execute_result"
    }
   ],
   "source": [
    "subjs"
   ]
  },
  {
   "cell_type": "code",
   "execution_count": 47,
   "id": "5e87909a-8635-4ed0-ab6d-417f4c7a2061",
   "metadata": {},
   "outputs": [
    {
     "data": {
      "text/plain": [
       "int"
      ]
     },
     "execution_count": 47,
     "metadata": {},
     "output_type": "execute_result"
    }
   ],
   "source": [
    "type(Age)"
   ]
  },
  {
   "cell_type": "code",
   "execution_count": 50,
   "id": "0c164199",
   "metadata": {},
   "outputs": [
    {
     "data": {
      "text/plain": [
       "float"
      ]
     },
     "execution_count": 50,
     "metadata": {},
     "output_type": "execute_result"
    }
   ],
   "source": [
    "type(income)"
   ]
  },
  {
   "cell_type": "code",
   "execution_count": 51,
   "id": "d876c91a",
   "metadata": {},
   "outputs": [
    {
     "data": {
      "text/plain": [
       "2000"
      ]
     },
     "execution_count": 51,
     "metadata": {},
     "output_type": "execute_result"
    }
   ],
   "source": [
    "int(income)"
   ]
  },
  {
   "cell_type": "markdown",
   "id": "58da40ea",
   "metadata": {},
   "source": [
    "Example of mulple line comments"
   ]
  },
  {
   "cell_type": "code",
   "execution_count": 49,
   "id": "51afdf1d",
   "metadata": {},
   "outputs": [],
   "source": [
    "studage = 30\n",
    "grade = 'A-'\n"
   ]
  },
  {
   "cell_type": "code",
   "execution_count": null,
   "id": "fd175873",
   "metadata": {},
   "outputs": [],
   "source": []
  }
 ],
 "metadata": {
  "kernelspec": {
   "display_name": "Python 3 (ipykernel)",
   "language": "python",
   "name": "python3"
  },
  "language_info": {
   "codemirror_mode": {
    "name": "ipython",
    "version": 3
   },
   "file_extension": ".py",
   "mimetype": "text/x-python",
   "name": "python",
   "nbconvert_exporter": "python",
   "pygments_lexer": "ipython3",
   "version": "3.11.6"
  }
 },
 "nbformat": 4,
 "nbformat_minor": 5
}
